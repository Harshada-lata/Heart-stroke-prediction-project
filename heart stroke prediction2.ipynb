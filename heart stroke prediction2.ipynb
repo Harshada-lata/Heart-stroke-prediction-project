{
 "cells": [
  {
   "cell_type": "code",
   "execution_count": 1,
   "id": "8f36a106-9906-49a1-aa9c-a471ee244940",
   "metadata": {},
   "outputs": [],
   "source": [
    "import pandas as pd \n",
    "import numpy as np \n",
    "import seaborn as sns \n",
    "import matplotlib.pyplot as plt \n",
    "from warnings import filterwarnings\n",
    "filterwarnings('ignore')"
   ]
  },
  {
   "cell_type": "code",
   "execution_count": 2,
   "id": "21dea90f-2d91-4c59-b64f-56e82aee99c2",
   "metadata": {},
   "outputs": [
    {
     "data": {
      "text/html": [
       "<div>\n",
       "<style scoped>\n",
       "    .dataframe tbody tr th:only-of-type {\n",
       "        vertical-align: middle;\n",
       "    }\n",
       "\n",
       "    .dataframe tbody tr th {\n",
       "        vertical-align: top;\n",
       "    }\n",
       "\n",
       "    .dataframe thead th {\n",
       "        text-align: right;\n",
       "    }\n",
       "</style>\n",
       "<table border=\"1\" class=\"dataframe\">\n",
       "  <thead>\n",
       "    <tr style=\"text-align: right;\">\n",
       "      <th></th>\n",
       "      <th>id</th>\n",
       "      <th>gender</th>\n",
       "      <th>age</th>\n",
       "      <th>hypertension</th>\n",
       "      <th>heart_disease</th>\n",
       "      <th>ever_married</th>\n",
       "      <th>work_type</th>\n",
       "      <th>Residence_type</th>\n",
       "      <th>avg_glucose_level</th>\n",
       "      <th>bmi</th>\n",
       "      <th>smoking_status</th>\n",
       "      <th>stroke</th>\n",
       "    </tr>\n",
       "  </thead>\n",
       "  <tbody>\n",
       "    <tr>\n",
       "      <th>0</th>\n",
       "      <td>9046</td>\n",
       "      <td>Male</td>\n",
       "      <td>67.0</td>\n",
       "      <td>0</td>\n",
       "      <td>1</td>\n",
       "      <td>Yes</td>\n",
       "      <td>Private</td>\n",
       "      <td>Urban</td>\n",
       "      <td>228.69</td>\n",
       "      <td>36.6</td>\n",
       "      <td>formerly smoked</td>\n",
       "      <td>1</td>\n",
       "    </tr>\n",
       "    <tr>\n",
       "      <th>1</th>\n",
       "      <td>51676</td>\n",
       "      <td>Female</td>\n",
       "      <td>61.0</td>\n",
       "      <td>0</td>\n",
       "      <td>0</td>\n",
       "      <td>Yes</td>\n",
       "      <td>Self-employed</td>\n",
       "      <td>Rural</td>\n",
       "      <td>202.21</td>\n",
       "      <td>NaN</td>\n",
       "      <td>never smoked</td>\n",
       "      <td>1</td>\n",
       "    </tr>\n",
       "    <tr>\n",
       "      <th>2</th>\n",
       "      <td>31112</td>\n",
       "      <td>Male</td>\n",
       "      <td>80.0</td>\n",
       "      <td>0</td>\n",
       "      <td>1</td>\n",
       "      <td>Yes</td>\n",
       "      <td>Private</td>\n",
       "      <td>Rural</td>\n",
       "      <td>105.92</td>\n",
       "      <td>32.5</td>\n",
       "      <td>never smoked</td>\n",
       "      <td>1</td>\n",
       "    </tr>\n",
       "    <tr>\n",
       "      <th>3</th>\n",
       "      <td>60182</td>\n",
       "      <td>Female</td>\n",
       "      <td>49.0</td>\n",
       "      <td>0</td>\n",
       "      <td>0</td>\n",
       "      <td>Yes</td>\n",
       "      <td>Private</td>\n",
       "      <td>Urban</td>\n",
       "      <td>171.23</td>\n",
       "      <td>34.4</td>\n",
       "      <td>smokes</td>\n",
       "      <td>1</td>\n",
       "    </tr>\n",
       "    <tr>\n",
       "      <th>4</th>\n",
       "      <td>1665</td>\n",
       "      <td>Female</td>\n",
       "      <td>79.0</td>\n",
       "      <td>1</td>\n",
       "      <td>0</td>\n",
       "      <td>Yes</td>\n",
       "      <td>Self-employed</td>\n",
       "      <td>Rural</td>\n",
       "      <td>174.12</td>\n",
       "      <td>24.0</td>\n",
       "      <td>never smoked</td>\n",
       "      <td>1</td>\n",
       "    </tr>\n",
       "    <tr>\n",
       "      <th>5</th>\n",
       "      <td>56669</td>\n",
       "      <td>Male</td>\n",
       "      <td>81.0</td>\n",
       "      <td>0</td>\n",
       "      <td>0</td>\n",
       "      <td>Yes</td>\n",
       "      <td>Private</td>\n",
       "      <td>Urban</td>\n",
       "      <td>186.21</td>\n",
       "      <td>29.0</td>\n",
       "      <td>formerly smoked</td>\n",
       "      <td>1</td>\n",
       "    </tr>\n",
       "    <tr>\n",
       "      <th>6</th>\n",
       "      <td>53882</td>\n",
       "      <td>Male</td>\n",
       "      <td>74.0</td>\n",
       "      <td>1</td>\n",
       "      <td>1</td>\n",
       "      <td>Yes</td>\n",
       "      <td>Private</td>\n",
       "      <td>Rural</td>\n",
       "      <td>70.09</td>\n",
       "      <td>27.4</td>\n",
       "      <td>never smoked</td>\n",
       "      <td>1</td>\n",
       "    </tr>\n",
       "    <tr>\n",
       "      <th>7</th>\n",
       "      <td>10434</td>\n",
       "      <td>Female</td>\n",
       "      <td>69.0</td>\n",
       "      <td>0</td>\n",
       "      <td>0</td>\n",
       "      <td>No</td>\n",
       "      <td>Private</td>\n",
       "      <td>Urban</td>\n",
       "      <td>94.39</td>\n",
       "      <td>22.8</td>\n",
       "      <td>never smoked</td>\n",
       "      <td>1</td>\n",
       "    </tr>\n",
       "    <tr>\n",
       "      <th>8</th>\n",
       "      <td>27419</td>\n",
       "      <td>Female</td>\n",
       "      <td>59.0</td>\n",
       "      <td>0</td>\n",
       "      <td>0</td>\n",
       "      <td>Yes</td>\n",
       "      <td>Private</td>\n",
       "      <td>Rural</td>\n",
       "      <td>76.15</td>\n",
       "      <td>NaN</td>\n",
       "      <td>Unknown</td>\n",
       "      <td>1</td>\n",
       "    </tr>\n",
       "    <tr>\n",
       "      <th>9</th>\n",
       "      <td>60491</td>\n",
       "      <td>Female</td>\n",
       "      <td>78.0</td>\n",
       "      <td>0</td>\n",
       "      <td>0</td>\n",
       "      <td>Yes</td>\n",
       "      <td>Private</td>\n",
       "      <td>Urban</td>\n",
       "      <td>58.57</td>\n",
       "      <td>24.2</td>\n",
       "      <td>Unknown</td>\n",
       "      <td>1</td>\n",
       "    </tr>\n",
       "  </tbody>\n",
       "</table>\n",
       "</div>"
      ],
      "text/plain": [
       "      id  gender   age  hypertension  heart_disease ever_married  \\\n",
       "0   9046    Male  67.0             0              1          Yes   \n",
       "1  51676  Female  61.0             0              0          Yes   \n",
       "2  31112    Male  80.0             0              1          Yes   \n",
       "3  60182  Female  49.0             0              0          Yes   \n",
       "4   1665  Female  79.0             1              0          Yes   \n",
       "5  56669    Male  81.0             0              0          Yes   \n",
       "6  53882    Male  74.0             1              1          Yes   \n",
       "7  10434  Female  69.0             0              0           No   \n",
       "8  27419  Female  59.0             0              0          Yes   \n",
       "9  60491  Female  78.0             0              0          Yes   \n",
       "\n",
       "       work_type Residence_type  avg_glucose_level   bmi   smoking_status  \\\n",
       "0        Private          Urban             228.69  36.6  formerly smoked   \n",
       "1  Self-employed          Rural             202.21   NaN     never smoked   \n",
       "2        Private          Rural             105.92  32.5     never smoked   \n",
       "3        Private          Urban             171.23  34.4           smokes   \n",
       "4  Self-employed          Rural             174.12  24.0     never smoked   \n",
       "5        Private          Urban             186.21  29.0  formerly smoked   \n",
       "6        Private          Rural              70.09  27.4     never smoked   \n",
       "7        Private          Urban              94.39  22.8     never smoked   \n",
       "8        Private          Rural              76.15   NaN          Unknown   \n",
       "9        Private          Urban              58.57  24.2          Unknown   \n",
       "\n",
       "   stroke  \n",
       "0       1  \n",
       "1       1  \n",
       "2       1  \n",
       "3       1  \n",
       "4       1  \n",
       "5       1  \n",
       "6       1  \n",
       "7       1  \n",
       "8       1  \n",
       "9       1  "
      ]
     },
     "execution_count": 2,
     "metadata": {},
     "output_type": "execute_result"
    }
   ],
   "source": [
    "df = pd.read_csv(\"healthcare-dataset-stroke-data.csv\")\n",
    "df.head(10)"
   ]
  },
  {
   "cell_type": "code",
   "execution_count": 3,
   "id": "00f9617b-6fcd-4351-9a9f-c96bcd6ac055",
   "metadata": {},
   "outputs": [
    {
     "data": {
      "text/plain": [
       "(5110, 12)"
      ]
     },
     "execution_count": 3,
     "metadata": {},
     "output_type": "execute_result"
    }
   ],
   "source": [
    "df.shape"
   ]
  },
  {
   "cell_type": "code",
   "execution_count": 4,
   "id": "1dd3dd3c-2dbc-4252-ae8b-e26c0fdb183d",
   "metadata": {},
   "outputs": [
    {
     "data": {
      "text/plain": [
       "id                     0\n",
       "gender                 0\n",
       "age                    0\n",
       "hypertension           0\n",
       "heart_disease          0\n",
       "ever_married           0\n",
       "work_type              0\n",
       "Residence_type         0\n",
       "avg_glucose_level      0\n",
       "bmi                  201\n",
       "smoking_status         0\n",
       "stroke                 0\n",
       "dtype: int64"
      ]
     },
     "execution_count": 4,
     "metadata": {},
     "output_type": "execute_result"
    }
   ],
   "source": [
    "df.isna().sum()\n"
   ]
  },
  {
   "cell_type": "code",
   "execution_count": 6,
   "id": "7a230a3f-26f6-4018-8734-4569e0d51c2a",
   "metadata": {},
   "outputs": [
    {
     "data": {
      "text/plain": [
       "<Axes: xlabel='bmi', ylabel='Density'>"
      ]
     },
     "execution_count": 6,
     "metadata": {},
     "output_type": "execute_result"
    },
    {
     "data": {
      "image/png": "[encoded data removed]",
      "text/plain": [
       "<Figure size 640x480 with 1 Axes>"
      ]
     },
     "metadata": {},
     "output_type": "display_data"
    }
   ],
   "source": [
    "sns.distplot(df[\"bmi\"])"
   ]
  },
  {
   "cell_type": "code",
   "execution_count": 7,
   "id": "1c2d4d82-56e2-4e83-b41a-dd474390bdc5",
   "metadata": {},
   "outputs": [
    {
     "data": {
      "text/plain": [
       "28.1"
      ]
     },
     "execution_count": 7,
     "metadata": {},
     "output_type": "execute_result"
    }
   ],
   "source": [
    "df['bmi'].median()"
   ]
  },
  {
   "cell_type": "code",
   "execution_count": 8,
   "id": "ccadbc8d-c85a-4a9d-a7d5-a1489e240349",
   "metadata": {},
   "outputs": [],
   "source": [
    "df[\"bmi\"].fillna(28.1,inplace=True)"
   ]
  },
  {
   "cell_type": "code",
   "execution_count": 9,
   "id": "8b2f7d96-61ab-4e20-95fc-079759553335",
   "metadata": {},
   "outputs": [
    {
     "data": {
      "text/plain": [
       "id                   0.0\n",
       "gender               0.0\n",
       "age                  0.0\n",
       "hypertension         0.0\n",
       "heart_disease        0.0\n",
       "ever_married         0.0\n",
       "work_type            0.0\n",
       "Residence_type       0.0\n",
       "avg_glucose_level    0.0\n",
       "bmi                  0.0\n",
       "smoking_status       0.0\n",
       "stroke               0.0\n",
       "dtype: float64"
      ]
     },
     "execution_count": 9,
     "metadata": {},
     "output_type": "execute_result"
    }
   ],
   "source": [
    "df.isna().sum()/len(df)*100  ## no null values"
   ]
  },
  {
   "cell_type": "code",
   "execution_count": 10,
   "id": "ca56cf7e-77c0-4bf9-8355-446ddd135d43",
   "metadata": {},
   "outputs": [
    {
     "name": "stdout",
     "output_type": "stream",
     "text": [
      "<class 'pandas.core.frame.DataFrame'>\n",
      "RangeIndex: 5110 entries, 0 to 5109\n",
      "Data columns (total 12 columns):\n",
      " #   Column             Non-Null Count  Dtype  \n",
      "---  ------             --------------  -----  \n",
      " 0   id                 5110 non-null   int64  \n",
      " 1   gender             5110 non-null   object \n",
      " 2   age                5110 non-null   float64\n",
      " 3   hypertension       5110 non-null   int64  \n",
      " 4   heart_disease      5110 non-null   int64  \n",
      " 5   ever_married       5110 non-null   object \n",
      " 6   work_type          5110 non-null   object \n",
      " 7   Residence_type     5110 non-null   object \n",
      " 8   avg_glucose_level  5110 non-null   float64\n",
      " 9   bmi                5110 non-null   float64\n",
      " 10  smoking_status     5110 non-null   object \n",
      " 11  stroke             5110 non-null   int64  \n",
      "dtypes: float64(3), int64(4), object(5)\n",
      "memory usage: 479.2+ KB\n"
     ]
    }
   ],
   "source": [
    "df.info()"
   ]
  },
  {
   "cell_type": "code",
   "execution_count": 11,
   "id": "0b984b2a-2849-4412-a1ac-be1164f839d9",
   "metadata": {},
   "outputs": [
    {
     "data": {
      "text/html": [
       "<div>\n",
       "<style scoped>\n",
       "    .dataframe tbody tr th:only-of-type {\n",
       "        vertical-align: middle;\n",
       "    }\n",
       "\n",
       "    .dataframe tbody tr th {\n",
       "        vertical-align: top;\n",
       "    }\n",
       "\n",
       "    .dataframe thead th {\n",
       "        text-align: right;\n",
       "    }\n",
       "</style>\n",
       "<table border=\"1\" class=\"dataframe\">\n",
       "  <thead>\n",
       "    <tr style=\"text-align: right;\">\n",
       "      <th></th>\n",
       "      <th>id</th>\n",
       "      <th>age</th>\n",
       "      <th>hypertension</th>\n",
       "      <th>heart_disease</th>\n",
       "      <th>avg_glucose_level</th>\n",
       "      <th>bmi</th>\n",
       "      <th>stroke</th>\n",
       "    </tr>\n",
       "  </thead>\n",
       "  <tbody>\n",
       "    <tr>\n",
       "      <th>count</th>\n",
       "      <td>5110.000000</td>\n",
       "      <td>5110.000000</td>\n",
       "      <td>5110.000000</td>\n",
       "      <td>5110.000000</td>\n",
       "      <td>5110.000000</td>\n",
       "      <td>5110.000000</td>\n",
       "      <td>5110.000000</td>\n",
       "    </tr>\n",
       "    <tr>\n",
       "      <th>mean</th>\n",
       "      <td>36517.829354</td>\n",
       "      <td>43.226614</td>\n",
       "      <td>0.097456</td>\n",
       "      <td>0.054012</td>\n",
       "      <td>106.147677</td>\n",
       "      <td>28.862035</td>\n",
       "      <td>0.048728</td>\n",
       "    </tr>\n",
       "    <tr>\n",
       "      <th>std</th>\n",
       "      <td>21161.721625</td>\n",
       "      <td>22.612647</td>\n",
       "      <td>0.296607</td>\n",
       "      <td>0.226063</td>\n",
       "      <td>45.283560</td>\n",
       "      <td>7.699562</td>\n",
       "      <td>0.215320</td>\n",
       "    </tr>\n",
       "    <tr>\n",
       "      <th>min</th>\n",
       "      <td>67.000000</td>\n",
       "      <td>0.080000</td>\n",
       "      <td>0.000000</td>\n",
       "      <td>0.000000</td>\n",
       "      <td>55.120000</td>\n",
       "      <td>10.300000</td>\n",
       "      <td>0.000000</td>\n",
       "    </tr>\n",
       "    <tr>\n",
       "      <th>25%</th>\n",
       "      <td>17741.250000</td>\n",
       "      <td>25.000000</td>\n",
       "      <td>0.000000</td>\n",
       "      <td>0.000000</td>\n",
       "      <td>77.245000</td>\n",
       "      <td>23.800000</td>\n",
       "      <td>0.000000</td>\n",
       "    </tr>\n",
       "    <tr>\n",
       "      <th>50%</th>\n",
       "      <td>36932.000000</td>\n",
       "      <td>45.000000</td>\n",
       "      <td>0.000000</td>\n",
       "      <td>0.000000</td>\n",
       "      <td>91.885000</td>\n",
       "      <td>28.100000</td>\n",
       "      <td>0.000000</td>\n",
       "    </tr>\n",
       "    <tr>\n",
       "      <th>75%</th>\n",
       "      <td>54682.000000</td>\n",
       "      <td>61.000000</td>\n",
       "      <td>0.000000</td>\n",
       "      <td>0.000000</td>\n",
       "      <td>114.090000</td>\n",
       "      <td>32.800000</td>\n",
       "      <td>0.000000</td>\n",
       "    </tr>\n",
       "    <tr>\n",
       "      <th>max</th>\n",
       "      <td>72940.000000</td>\n",
       "      <td>82.000000</td>\n",
       "      <td>1.000000</td>\n",
       "      <td>1.000000</td>\n",
       "      <td>271.740000</td>\n",
       "      <td>97.600000</td>\n",
       "      <td>1.000000</td>\n",
       "    </tr>\n",
       "  </tbody>\n",
       "</table>\n",
       "</div>"
      ],
      "text/plain": [
       "                 id          age  hypertension  heart_disease  \\\n",
       "count   5110.000000  5110.000000   5110.000000    5110.000000   \n",
       "mean   36517.829354    43.226614      0.097456       0.054012   \n",
       "std    21161.721625    22.612647      0.296607       0.226063   \n",
       "min       67.000000     0.080000      0.000000       0.000000   \n",
       "25%    17741.250000    25.000000      0.000000       0.000000   \n",
       "50%    36932.000000    45.000000      0.000000       0.000000   \n",
       "75%    54682.000000    61.000000      0.000000       0.000000   \n",
       "max    72940.000000    82.000000      1.000000       1.000000   \n",
       "\n",
       "       avg_glucose_level          bmi       stroke  \n",
       "count        5110.000000  5110.000000  5110.000000  \n",
       "mean          106.147677    28.862035     0.048728  \n",
       "std            45.283560     7.699562     0.215320  \n",
       "min            55.120000    10.300000     0.000000  \n",
       "25%            77.245000    23.800000     0.000000  \n",
       "50%            91.885000    28.100000     0.000000  \n",
       "75%           114.090000    32.800000     0.000000  \n",
       "max           271.740000    97.600000     1.000000  "
      ]
     },
     "execution_count": 11,
     "metadata": {},
     "output_type": "execute_result"
    }
   ],
   "source": [
    "df.describe()"
   ]
  },
  {
   "cell_type": "code",
   "execution_count": 12,
   "id": "3467893c-5a44-4d25-9ba3-5519f7c3d795",
   "metadata": {},
   "outputs": [
    {
     "data": {
      "text/plain": [
       "stroke\n",
       "0    4861\n",
       "1     249\n",
       "Name: count, dtype: int64"
      ]
     },
     "execution_count": 12,
     "metadata": {},
     "output_type": "execute_result"
    }
   ],
   "source": [
    "df['stroke'].value_counts()"
   ]
  },
  {
   "cell_type": "code",
   "execution_count": 13,
   "id": "9f48ea49-591e-423b-98ce-8fdf08993848",
   "metadata": {},
   "outputs": [
    {
     "data": {
      "image/png": "[encoded data removed]",
      "text/plain": [
       "<Figure size 640x480 with 1 Axes>"
      ]
     },
     "metadata": {},
     "output_type": "display_data"
    }
   ],
   "source": [
    "plt.pie(df[\"stroke\"].value_counts(),autopct='%.2f%%')\n",
    "plt.show()"
   ]
  },
  {
   "cell_type": "code",
   "execution_count": 14,
   "id": "aef938a5-1311-4c1a-868b-2453e5a26d61",
   "metadata": {},
   "outputs": [
    {
     "data": {
      "text/plain": [
       "gender\n",
       "Female    2994\n",
       "Male      2115\n",
       "Other        1\n",
       "Name: count, dtype: int64"
      ]
     },
     "execution_count": 14,
     "metadata": {},
     "output_type": "execute_result"
    }
   ],
   "source": [
    "df.gender.value_counts()"
   ]
  },
  {
   "cell_type": "code",
   "execution_count": 15,
   "id": "8fdb5af5-cef0-4536-9bca-b794dbaa2c72",
   "metadata": {},
   "outputs": [],
   "source": [
    "df['gender'].replace({'Other':'Female'},inplace=True)\n"
   ]
  },
  {
   "cell_type": "code",
   "execution_count": 16,
   "id": "519a3a90-c052-40c6-ae9c-4105c730b077",
   "metadata": {},
   "outputs": [
    {
     "data": {
      "text/plain": [
       "<Axes: xlabel='gender', ylabel='count'>"
      ]
     },
     "execution_count": 16,
     "metadata": {},
     "output_type": "execute_result"
    },
    {
     "data": {
      "image/png": "[encoded data removed]",
      "text/plain": [
       "<Figure size 640x480 with 1 Axes>"
      ]
     },
     "metadata": {},
     "output_type": "display_data"
    }
   ],
   "source": [
    "sns.countplot(x=df[\"gender\"],hue=df[\"gender\"])\n"
   ]
  },
  {
   "cell_type": "code",
   "execution_count": 19,
   "id": "146a9ad0-ec4e-4333-83ab-186684decb53",
   "metadata": {},
   "outputs": [
    {
     "data": {
      "text/plain": [
       "<Axes: xlabel='hypertension', ylabel='count'>"
      ]
     },
     "execution_count": 19,
     "metadata": {},
     "output_type": "execute_result"
    },
    {
     "data": {
      "image/png": "[encoded data removed]",
      "text/plain": [
       "<Figure size 640x480 with 1 Axes>"
      ]
     },
     "metadata": {},
     "output_type": "display_data"
    }
   ],
   "source": [
    "df['hypertension'].nunique()\n",
    "# Returns number of unique values in this attribute\n",
    "sns.countplot(x=df['hypertension'],data=df,hue=df['gender'])\n",
    "#sns.countplot(x=df['hypertension'],data=df,hue=df[\"stroke\"])"
   ]
  },
  {
   "cell_type": "code",
   "execution_count": 20,
   "id": "b902c21e-1ad0-455a-9b6d-0922fc4bb93a",
   "metadata": {},
   "outputs": [
    {
     "name": "stdout",
     "output_type": "stream",
     "text": [
      "Unique Value\n",
      " [1 0]\n",
      "Value Counts\n",
      " heart_disease\n",
      "0    4834\n",
      "1     276\n",
      "Name: count, dtype: int64\n"
     ]
    },
    {
     "data": {
      "text/plain": [
       "<Axes: xlabel='heart_disease', ylabel='count'>"
      ]
     },
     "execution_count": 20,
     "metadata": {},
     "output_type": "execute_result"
    },
    {
     "data": {
      "image/png": "[encoded data removed]",
      "text/plain": [
       "<Figure size 640x480 with 1 Axes>"
      ]
     },
     "metadata": {},
     "output_type": "display_data"
    }
   ],
   "source": [
    "print('Unique Value\\n',df['heart_disease'].unique())\n",
    "print('Value Counts\\n',df['heart_disease'].value_counts())\n",
    "# Above code will return unique value for heart disease attribute and its value counts\n",
    "sns.countplot(x=df['heart_disease'],data=df)\n"
   ]
  },
  {
   "cell_type": "code",
   "execution_count": 21,
   "id": "de17409d-a743-4fdd-8c76-eba9a6248729",
   "metadata": {},
   "outputs": [
    {
     "name": "stdout",
     "output_type": "stream",
     "text": [
      "Unique Values\n",
      " ['Yes' 'No']\n",
      "Value Counts\n",
      " ever_married\n",
      "Yes    3353\n",
      "No     1757\n",
      "Name: count, dtype: int64\n"
     ]
    },
    {
     "data": {
      "text/plain": [
       "<Axes: xlabel='ever_married', ylabel='count'>"
      ]
     },
     "execution_count": 21,
     "metadata": {},
     "output_type": "execute_result"
    },
    {
     "data": {
      "image/png": "[encoded data removed]",
      "text/plain": [
       "<Figure size 640x480 with 1 Axes>"
      ]
     },
     "metadata": {},
     "output_type": "display_data"
    }
   ],
   "source": [
    "print('Unique Values\\n',df['ever_married'].unique())\n",
    "print('Value Counts\\n',df['ever_married'].value_counts())\n",
    "sns.countplot(x=df['ever_married'],data=df,hue=df[\"ever_married\"])"
   ]
  },
  {
   "cell_type": "code",
   "execution_count": 22,
   "id": "720bfe81-92de-490a-938c-1d06acc8ec3b",
   "metadata": {},
   "outputs": [
    {
     "data": {
      "text/plain": [
       "smoking_status\n",
       "never smoked       1892\n",
       "Unknown            1544\n",
       "formerly smoked     885\n",
       "smokes              789\n",
       "Name: count, dtype: int64"
      ]
     },
     "execution_count": 22,
     "metadata": {},
     "output_type": "execute_result"
    }
   ],
   "source": [
    "df[\"smoking_status\"].value_counts()"
   ]
  },
  {
   "cell_type": "code",
   "execution_count": 23,
   "id": "c795db4a-503e-415b-ba67-f9ea66b08835",
   "metadata": {},
   "outputs": [
    {
     "data": {
      "text/plain": [
       "<Axes: xlabel='smoking_status', ylabel='count'>"
      ]
     },
     "execution_count": 23,
     "metadata": {},
     "output_type": "execute_result"
    },
    {
     "data": {
      "image/png": "[encoded data removed]",
      "text/plain": [
       "<Figure size 640x480 with 1 Axes>"
      ]
     },
     "metadata": {},
     "output_type": "display_data"
    }
   ],
   "source": [
    "sns.countplot(x=df['smoking_status'],data=df,hue=df[\"smoking_status\"])"
   ]
  },
  {
   "cell_type": "code",
   "execution_count": 24,
   "id": "94b8792e-d657-4a82-b2d1-c7417eded8d9",
   "metadata": {},
   "outputs": [
    {
     "data": {
      "text/html": [
       "<div>\n",
       "<style scoped>\n",
       "    .dataframe tbody tr th:only-of-type {\n",
       "        vertical-align: middle;\n",
       "    }\n",
       "\n",
       "    .dataframe tbody tr th {\n",
       "        vertical-align: top;\n",
       "    }\n",
       "\n",
       "    .dataframe thead th {\n",
       "        text-align: right;\n",
       "    }\n",
       "</style>\n",
       "<table border=\"1\" class=\"dataframe\">\n",
       "  <thead>\n",
       "    <tr style=\"text-align: right;\">\n",
       "      <th></th>\n",
       "      <th>id</th>\n",
       "      <th>gender</th>\n",
       "      <th>age</th>\n",
       "      <th>hypertension</th>\n",
       "      <th>heart_disease</th>\n",
       "      <th>ever_married</th>\n",
       "      <th>work_type</th>\n",
       "      <th>Residence_type</th>\n",
       "      <th>avg_glucose_level</th>\n",
       "      <th>bmi</th>\n",
       "      <th>smoking_status</th>\n",
       "      <th>stroke</th>\n",
       "    </tr>\n",
       "  </thead>\n",
       "  <tbody>\n",
       "    <tr>\n",
       "      <th>0</th>\n",
       "      <td>9046</td>\n",
       "      <td>Male</td>\n",
       "      <td>67.0</td>\n",
       "      <td>0</td>\n",
       "      <td>1</td>\n",
       "      <td>Yes</td>\n",
       "      <td>Private</td>\n",
       "      <td>Urban</td>\n",
       "      <td>228.69</td>\n",
       "      <td>36.6</td>\n",
       "      <td>Private</td>\n",
       "      <td>1</td>\n",
       "    </tr>\n",
       "    <tr>\n",
       "      <th>1</th>\n",
       "      <td>51676</td>\n",
       "      <td>Female</td>\n",
       "      <td>61.0</td>\n",
       "      <td>0</td>\n",
       "      <td>0</td>\n",
       "      <td>Yes</td>\n",
       "      <td>Self-employed</td>\n",
       "      <td>Rural</td>\n",
       "      <td>202.21</td>\n",
       "      <td>28.1</td>\n",
       "      <td>Self-employed</td>\n",
       "      <td>1</td>\n",
       "    </tr>\n",
       "    <tr>\n",
       "      <th>2</th>\n",
       "      <td>31112</td>\n",
       "      <td>Male</td>\n",
       "      <td>80.0</td>\n",
       "      <td>0</td>\n",
       "      <td>1</td>\n",
       "      <td>Yes</td>\n",
       "      <td>Private</td>\n",
       "      <td>Rural</td>\n",
       "      <td>105.92</td>\n",
       "      <td>32.5</td>\n",
       "      <td>Private</td>\n",
       "      <td>1</td>\n",
       "    </tr>\n",
       "    <tr>\n",
       "      <th>3</th>\n",
       "      <td>60182</td>\n",
       "      <td>Female</td>\n",
       "      <td>49.0</td>\n",
       "      <td>0</td>\n",
       "      <td>0</td>\n",
       "      <td>Yes</td>\n",
       "      <td>Private</td>\n",
       "      <td>Urban</td>\n",
       "      <td>171.23</td>\n",
       "      <td>34.4</td>\n",
       "      <td>Private</td>\n",
       "      <td>1</td>\n",
       "    </tr>\n",
       "    <tr>\n",
       "      <th>4</th>\n",
       "      <td>1665</td>\n",
       "      <td>Female</td>\n",
       "      <td>79.0</td>\n",
       "      <td>1</td>\n",
       "      <td>0</td>\n",
       "      <td>Yes</td>\n",
       "      <td>Self-employed</td>\n",
       "      <td>Rural</td>\n",
       "      <td>174.12</td>\n",
       "      <td>24.0</td>\n",
       "      <td>Self-employed</td>\n",
       "      <td>1</td>\n",
       "    </tr>\n",
       "  </tbody>\n",
       "</table>\n",
       "</div>"
      ],
      "text/plain": [
       "      id  gender   age  hypertension  heart_disease ever_married  \\\n",
       "0   9046    Male  67.0             0              1          Yes   \n",
       "1  51676  Female  61.0             0              0          Yes   \n",
       "2  31112    Male  80.0             0              1          Yes   \n",
       "3  60182  Female  49.0             0              0          Yes   \n",
       "4   1665  Female  79.0             1              0          Yes   \n",
       "\n",
       "       work_type Residence_type  avg_glucose_level   bmi smoking_status  \\\n",
       "0        Private          Urban             228.69  36.6        Private   \n",
       "1  Self-employed          Rural             202.21  28.1  Self-employed   \n",
       "2        Private          Rural             105.92  32.5        Private   \n",
       "3        Private          Urban             171.23  34.4        Private   \n",
       "4  Self-employed          Rural             174.12  24.0  Self-employed   \n",
       "\n",
       "   stroke  \n",
       "0       1  \n",
       "1       1  \n",
       "2       1  \n",
       "3       1  \n",
       "4       1  "
      ]
     },
     "execution_count": 24,
     "metadata": {},
     "output_type": "execute_result"
    }
   ],
   "source": [
    "df['smoking_status'] = df[\"work_type\"].replace({\"never smoked\":0,\"Unknown\":1,\"formerly smoked\":2,\"smokes\":-2})\n",
    "df.head()"
   ]
  },
  {
   "cell_type": "code",
   "execution_count": 25,
   "id": "c2a9f5ee-8bd2-498c-8d3c-3084534bdff0",
   "metadata": {},
   "outputs": [
    {
     "data": {
      "text/plain": [
       "work_type\n",
       "Private          2925\n",
       "Self-employed     819\n",
       "children          687\n",
       "Govt_job          657\n",
       "Never_worked       22\n",
       "Name: count, dtype: int64"
      ]
     },
     "execution_count": 25,
     "metadata": {},
     "output_type": "execute_result"
    }
   ],
   "source": [
    "df[\"work_type\"].value_counts()"
   ]
  },
  {
   "cell_type": "code",
   "execution_count": 26,
   "id": "8538eb2e-f2a8-453f-8f49-2ab98f9e2eb3",
   "metadata": {},
   "outputs": [
    {
     "name": "stdout",
     "output_type": "stream",
     "text": [
      "Unique Values\n",
      " ['Urban' 'Rural']\n",
      "Value Counts\n",
      " Residence_type\n",
      "Urban    2596\n",
      "Rural    2514\n",
      "Name: count, dtype: int64\n"
     ]
    },
    {
     "data": {
      "text/plain": [
       "<Axes: xlabel='Residence_type', ylabel='count'>"
      ]
     },
     "execution_count": 26,
     "metadata": {},
     "output_type": "execute_result"
    },
    {
     "data": {
      "image/png": "[encoded data removed]",
      "text/plain": [
       "<Figure size 640x480 with 1 Axes>"
      ]
     },
     "metadata": {},
     "output_type": "display_data"
    }
   ],
   "source": [
    "print('Unique Values\\n',df['Residence_type'].unique())\n",
    "print(\"Value Counts\\n\",df['Residence_type'].value_counts())\n",
    "# Above code will return unique values of variable and its count\n",
    "sns.countplot(data=df,x='Residence_type')"
   ]
  },
  {
   "cell_type": "code",
   "execution_count": 27,
   "id": "cc2911f1-44f2-44cf-bfcc-b8c02afeb83f",
   "metadata": {},
   "outputs": [
    {
     "data": {
      "text/html": [
       "<div>\n",
       "<style scoped>\n",
       "    .dataframe tbody tr th:only-of-type {\n",
       "        vertical-align: middle;\n",
       "    }\n",
       "\n",
       "    .dataframe tbody tr th {\n",
       "        vertical-align: top;\n",
       "    }\n",
       "\n",
       "    .dataframe thead th {\n",
       "        text-align: right;\n",
       "    }\n",
       "</style>\n",
       "<table border=\"1\" class=\"dataframe\">\n",
       "  <thead>\n",
       "    <tr style=\"text-align: right;\">\n",
       "      <th></th>\n",
       "      <th>age</th>\n",
       "      <th>hypertension</th>\n",
       "      <th>heart_disease</th>\n",
       "      <th>ever_married</th>\n",
       "      <th>work_type</th>\n",
       "      <th>avg_glucose_level</th>\n",
       "      <th>bmi</th>\n",
       "      <th>smoking_status</th>\n",
       "      <th>stroke</th>\n",
       "    </tr>\n",
       "  </thead>\n",
       "  <tbody>\n",
       "    <tr>\n",
       "      <th>0</th>\n",
       "      <td>67.0</td>\n",
       "      <td>0</td>\n",
       "      <td>1</td>\n",
       "      <td>Yes</td>\n",
       "      <td>Private</td>\n",
       "      <td>228.69</td>\n",
       "      <td>36.6</td>\n",
       "      <td>Private</td>\n",
       "      <td>1</td>\n",
       "    </tr>\n",
       "    <tr>\n",
       "      <th>1</th>\n",
       "      <td>61.0</td>\n",
       "      <td>0</td>\n",
       "      <td>0</td>\n",
       "      <td>Yes</td>\n",
       "      <td>Self-employed</td>\n",
       "      <td>202.21</td>\n",
       "      <td>28.1</td>\n",
       "      <td>Self-employed</td>\n",
       "      <td>1</td>\n",
       "    </tr>\n",
       "    <tr>\n",
       "      <th>2</th>\n",
       "      <td>80.0</td>\n",
       "      <td>0</td>\n",
       "      <td>1</td>\n",
       "      <td>Yes</td>\n",
       "      <td>Private</td>\n",
       "      <td>105.92</td>\n",
       "      <td>32.5</td>\n",
       "      <td>Private</td>\n",
       "      <td>1</td>\n",
       "    </tr>\n",
       "    <tr>\n",
       "      <th>3</th>\n",
       "      <td>49.0</td>\n",
       "      <td>0</td>\n",
       "      <td>0</td>\n",
       "      <td>Yes</td>\n",
       "      <td>Private</td>\n",
       "      <td>171.23</td>\n",
       "      <td>34.4</td>\n",
       "      <td>Private</td>\n",
       "      <td>1</td>\n",
       "    </tr>\n",
       "    <tr>\n",
       "      <th>4</th>\n",
       "      <td>79.0</td>\n",
       "      <td>1</td>\n",
       "      <td>0</td>\n",
       "      <td>Yes</td>\n",
       "      <td>Self-employed</td>\n",
       "      <td>174.12</td>\n",
       "      <td>24.0</td>\n",
       "      <td>Self-employed</td>\n",
       "      <td>1</td>\n",
       "    </tr>\n",
       "  </tbody>\n",
       "</table>\n",
       "</div>"
      ],
      "text/plain": [
       "    age  hypertension  heart_disease ever_married      work_type  \\\n",
       "0  67.0             0              1          Yes        Private   \n",
       "1  61.0             0              0          Yes  Self-employed   \n",
       "2  80.0             0              1          Yes        Private   \n",
       "3  49.0             0              0          Yes        Private   \n",
       "4  79.0             1              0          Yes  Self-employed   \n",
       "\n",
       "   avg_glucose_level   bmi smoking_status  stroke  \n",
       "0             228.69  36.6        Private       1  \n",
       "1             202.21  28.1  Self-employed       1  \n",
       "2             105.92  32.5        Private       1  \n",
       "3             171.23  34.4        Private       1  \n",
       "4             174.12  24.0  Self-employed       1  "
      ]
     },
     "execution_count": 27,
     "metadata": {},
     "output_type": "execute_result"
    }
   ],
   "source": [
    "df.drop([\"id\",\"gender\",\"Residence_type\"],axis=1,inplace=True)\n",
    "df.head()"
   ]
  },
  {
   "cell_type": "code",
   "execution_count": 30,
   "id": "d16673ab-abe0-440b-9201-99294d41366e",
   "metadata": {},
   "outputs": [
    {
     "data": {
      "text/plain": [
       "0"
      ]
     },
     "execution_count": 30,
     "metadata": {},
     "output_type": "execute_result"
    }
   ],
   "source": [
    "df['bmi'].isna().sum()\n",
    "# Returns number null values"
   ]
  },
  {
   "cell_type": "code",
   "execution_count": 31,
   "id": "09ebf979-6c44-4dfe-8455-afc163eea31c",
   "metadata": {},
   "outputs": [],
   "source": [
    "df['bmi'].fillna(df['bmi'].mean(),inplace=True)\n",
    "# Filling null values with average value"
   ]
  },
  {
   "cell_type": "code",
   "execution_count": 32,
   "id": "b559f7ca-0054-4caa-9e9b-b26811f14957",
   "metadata": {},
   "outputs": [
    {
     "data": {
      "text/plain": [
       "418"
      ]
     },
     "execution_count": 32,
     "metadata": {},
     "output_type": "execute_result"
    }
   ],
   "source": [
    "df['bmi'].nunique()\n",
    "# Returns number of unique values in that attribute"
   ]
  },
  {
   "cell_type": "code",
   "execution_count": 33,
   "id": "a93e576a-fb40-47d4-86fe-8166ac3e8204",
   "metadata": {},
   "outputs": [
    {
     "data": {
      "text/plain": [
       "<seaborn.axisgrid.FacetGrid at 0x1e865c73810>"
      ]
     },
     "execution_count": 33,
     "metadata": {},
     "output_type": "execute_result"
    },
    {
     "data": {
      "image/png": "[encoded data removed]",
      "text/plain": [
       "<Figure size 500x500 with 1 Axes>"
      ]
     },
     "metadata": {},
     "output_type": "display_data"
    }
   ],
   "source": [
    "sns.displot(df['bmi'])\n",
    "# Distribution of bmi"
   ]
  },
  {
   "cell_type": "code",
   "execution_count": 35,
   "id": "f9e5ba59-e267-4b18-91df-5eb7ac790e85",
   "metadata": {},
   "outputs": [
    {
     "data": {
      "text/plain": [
       "stroke\n",
       "0    4861\n",
       "1     249\n",
       "Name: count, dtype: int64"
      ]
     },
     "execution_count": 35,
     "metadata": {},
     "output_type": "execute_result"
    }
   ],
   "source": [
    "df['stroke'].value_counts()"
   ]
  },
  {
   "cell_type": "code",
   "execution_count": 36,
   "id": "0a82a351-468d-4b44-b513-f186609c25c0",
   "metadata": {},
   "outputs": [
    {
     "data": {
      "text/plain": [
       "<Axes: xlabel='stroke', ylabel='count'>"
      ]
     },
     "execution_count": 36,
     "metadata": {},
     "output_type": "execute_result"
    },
    {
     "data": {
      "image/png": "[encoded data removed]",
      "text/plain": [
       "<Figure size 640x480 with 1 Axes>"
      ]
     },
     "metadata": {},
     "output_type": "display_data"
    }
   ],
   "source": [
    "sns.countplot(x=df['stroke'],data=df)"
   ]
  },
  {
   "cell_type": "code",
   "execution_count": 39,
   "id": "3d5a6bcc-20e4-4fdb-b9d1-9a2f6f3b78e6",
   "metadata": {},
   "outputs": [],
   "source": [
    "import scipy.stats as sts "
   ]
  },
  {
   "cell_type": "code",
   "execution_count": 40,
   "id": "11a26776-0b53-4364-8d52-ceb1de8ba5b1",
   "metadata": {},
   "outputs": [],
   "source": [
    "pval = 0.7895490538408245"
   ]
  },
  {
   "cell_type": "code",
   "execution_count": 41,
   "id": "4faa2835-aa74-493f-8dba-cf2f233ad897",
   "metadata": {},
   "outputs": [
    {
     "data": {
      "text/plain": [
       "False"
      ]
     },
     "execution_count": 41,
     "metadata": {},
     "output_type": "execute_result"
    }
   ],
   "source": [
    "pval< 0.05  "
   ]
  },
  {
   "cell_type": "code",
   "execution_count": 42,
   "id": "2c572418-c989-4b23-8518-ea9f02bd0e27",
   "metadata": {},
   "outputs": [
    {
     "data": {
      "text/plain": [
       "0.0"
      ]
     },
     "execution_count": 42,
     "metadata": {},
     "output_type": "execute_result"
    }
   ],
   "source": [
    "ttest,pval  = sts.ttest_ind(df[\"stroke\"],df[\"age\"])\n",
    "pval"
   ]
  },
  {
   "cell_type": "code",
   "execution_count": 43,
   "id": "28442bf7-61a4-4170-be5d-01cc58ecc00e",
   "metadata": {},
   "outputs": [
    {
     "data": {
      "text/plain": [
       "True"
      ]
     },
     "execution_count": 43,
     "metadata": {},
     "output_type": "execute_result"
    }
   ],
   "source": [
    "pval < 0.05"
   ]
  },
  {
   "cell_type": "code",
   "execution_count": 44,
   "id": "fc68eb40-14c2-47ea-abca-3e73641a212d",
   "metadata": {},
   "outputs": [
    {
     "data": {
      "text/plain": [
       "Chi2ContingencyResult(statistic=81.6053682482931, pvalue=1.661621901511823e-19, dof=1, expected_freq=array([[4387.2665362,  473.7334638],\n",
       "       [ 224.7334638,   24.2665362]]))"
      ]
     },
     "execution_count": 44,
     "metadata": {},
     "output_type": "execute_result"
    }
   ],
   "source": [
    "sts.chi2_contingency(pd.crosstab(df[\"stroke\"],df[\"hypertension\"]))"
   ]
  },
  {
   "cell_type": "code",
   "execution_count": 45,
   "id": "fc09f1bb-1e7f-4ff7-8abd-b2271c22fe8b",
   "metadata": {},
   "outputs": [
    {
     "data": {
      "text/plain": [
       "True"
      ]
     },
     "execution_count": 45,
     "metadata": {},
     "output_type": "execute_result"
    }
   ],
   "source": [
    "pval = 1.661621901511823e-19\n",
    "pval < 0.05"
   ]
  },
  {
   "cell_type": "code",
   "execution_count": 46,
   "id": "7a2ecd08-bf44-4184-b288-87d55cb774ca",
   "metadata": {},
   "outputs": [
    {
     "data": {
      "text/plain": [
       "Chi2ContingencyResult(statistic=90.25956125843324, pvalue=2.0887845685229236e-21, dof=1, expected_freq=array([[4598.44892368,  262.55107632],\n",
       "       [ 235.55107632,   13.44892368]]))"
      ]
     },
     "execution_count": 46,
     "metadata": {},
     "output_type": "execute_result"
    }
   ],
   "source": [
    "sts.chi2_contingency(pd.crosstab(df[\"stroke\"],df[\"heart_disease\"]))"
   ]
  },
  {
   "cell_type": "code",
   "execution_count": 47,
   "id": "4cd4e8d9-a9c4-4964-8b87-a14271478d61",
   "metadata": {},
   "outputs": [],
   "source": [
    "pval = 2.0887845685229236e-21"
   ]
  },
  {
   "cell_type": "code",
   "execution_count": 48,
   "id": "cff6c9e1-1203-4a3a-9586-b3664e4b930c",
   "metadata": {},
   "outputs": [
    {
     "data": {
      "text/plain": [
       "True"
      ]
     },
     "execution_count": 48,
     "metadata": {},
     "output_type": "execute_result"
    }
   ],
   "source": [
    "pval < 0.05"
   ]
  },
  {
   "cell_type": "code",
   "execution_count": 49,
   "id": "983b5ac0-c0ab-4b52-a2fe-4c473e7d5524",
   "metadata": {},
   "outputs": [
    {
     "data": {
      "text/plain": [
       "Chi2ContingencyResult(statistic=58.923890259034195, pvalue=1.6389021142314745e-14, dof=1, expected_freq=array([[1671.38493151, 3189.61506849],\n",
       "       [  85.61506849,  163.38493151]]))"
      ]
     },
     "execution_count": 49,
     "metadata": {},
     "output_type": "execute_result"
    }
   ],
   "source": [
    "sts.chi2_contingency(pd.crosstab(df[\"stroke\"],df[\"ever_married\"]))"
   ]
  },
  {
   "cell_type": "code",
   "execution_count": 50,
   "id": "5e20bb0a-c498-4e4f-97de-e19c289ba8f1",
   "metadata": {},
   "outputs": [
    {
     "data": {
      "text/plain": [
       "True"
      ]
     },
     "execution_count": 50,
     "metadata": {},
     "output_type": "execute_result"
    }
   ],
   "source": [
    "pval = 1.6389021142314745e-14\n",
    "pval < 0.05"
   ]
  },
  {
   "cell_type": "code",
   "execution_count": 51,
   "id": "c9a1970e-3fda-48e7-9bc8-2ebd1b9299e5",
   "metadata": {},
   "outputs": [
    {
     "data": {
      "text/plain": [
       "Chi2ContingencyResult(statistic=49.163511976675295, pvalue=5.397707801896119e-10, dof=4, expected_freq=array([[6.24985714e+02, 2.09279843e+01, 2.78247065e+03, 7.79091781e+02,\n",
       "        6.53523875e+02],\n",
       "       [3.20142857e+01, 1.07201566e+00, 1.42529354e+02, 3.99082192e+01,\n",
       "        3.34761252e+01]]))"
      ]
     },
     "execution_count": 51,
     "metadata": {},
     "output_type": "execute_result"
    }
   ],
   "source": [
    "sts.chi2_contingency(pd.crosstab(df[\"stroke\"],df[\"work_type\"]))"
   ]
  },
  {
   "cell_type": "code",
   "execution_count": 52,
   "id": "963a73c7-3248-4151-8512-d4614280d948",
   "metadata": {},
   "outputs": [
    {
     "data": {
      "text/plain": [
       "True"
      ]
     },
     "execution_count": 52,
     "metadata": {},
     "output_type": "execute_result"
    }
   ],
   "source": [
    "pval=5.397707801896119e-10\n",
    "pval < 0.05"
   ]
  },
  {
   "cell_type": "code",
   "execution_count": 53,
   "id": "c8107468-b9f3-41c7-b056-c1283ab20c08",
   "metadata": {},
   "outputs": [
    {
     "data": {
      "text/plain": [
       "False"
      ]
     },
     "execution_count": 53,
     "metadata": {},
     "output_type": "execute_result"
    }
   ],
   "source": [
    "pval=0.29833169286876987\n",
    "pval < 0.05"
   ]
  },
  {
   "cell_type": "code",
   "execution_count": 54,
   "id": "283df7e1-877a-4ffc-a633-623de3d7984f",
   "metadata": {},
   "outputs": [],
   "source": [
    "tstat,pval=sts.f_oneway(df[\"stroke\"],df[\"avg_glucose_level\"])"
   ]
  },
  {
   "cell_type": "code",
   "execution_count": 55,
   "id": "39c321aa-1e6e-4fe4-9a71-cf278c304e1b",
   "metadata": {},
   "outputs": [
    {
     "data": {
      "text/plain": [
       "0.0"
      ]
     },
     "execution_count": 55,
     "metadata": {},
     "output_type": "execute_result"
    }
   ],
   "source": [
    "pval"
   ]
  },
  {
   "cell_type": "code",
   "execution_count": 56,
   "id": "e300cba4-bfe8-4dba-812c-2a47fad3500c",
   "metadata": {},
   "outputs": [
    {
     "data": {
      "text/plain": [
       "True"
      ]
     },
     "execution_count": 56,
     "metadata": {},
     "output_type": "execute_result"
    }
   ],
   "source": [
    "pval<0.05"
   ]
  },
  {
   "cell_type": "code",
   "execution_count": 57,
   "id": "596712f0-a1bc-423d-8bea-5cf4c9e8c8fb",
   "metadata": {},
   "outputs": [
    {
     "data": {
      "text/plain": [
       "True"
      ]
     },
     "execution_count": 57,
     "metadata": {},
     "output_type": "execute_result"
    }
   ],
   "source": [
    "tstat,pval=sts.f_oneway(df[\"stroke\"],df[\"bmi\"])\n",
    "pval<0.05"
   ]
  },
  {
   "cell_type": "code",
   "execution_count": 58,
   "id": "958c25f2-339e-4ff1-b484-1e170b6e3d5c",
   "metadata": {},
   "outputs": [
    {
     "data": {
      "text/plain": [
       "Chi2ContingencyResult(statistic=49.163511976675295, pvalue=5.397707801896119e-10, dof=4, expected_freq=array([[6.24985714e+02, 2.09279843e+01, 2.78247065e+03, 7.79091781e+02,\n",
       "        6.53523875e+02],\n",
       "       [3.20142857e+01, 1.07201566e+00, 1.42529354e+02, 3.99082192e+01,\n",
       "        3.34761252e+01]]))"
      ]
     },
     "execution_count": 58,
     "metadata": {},
     "output_type": "execute_result"
    }
   ],
   "source": [
    "sts.chi2_contingency(pd.crosstab(df[\"stroke\"],df[\"smoking_status\"]))"
   ]
  },
  {
   "cell_type": "code",
   "execution_count": 59,
   "id": "98154a78-efe4-432f-bc25-17c27acae23b",
   "metadata": {},
   "outputs": [
    {
     "data": {
      "text/plain": [
       "True"
      ]
     },
     "execution_count": 59,
     "metadata": {},
     "output_type": "execute_result"
    }
   ],
   "source": [
    "pval=2.0853997025008455e-06\n",
    "pval<0.05"
   ]
  },
  {
   "cell_type": "code",
   "execution_count": 61,
   "id": "9e8f89ff-dddc-443d-944a-b19cfa479cd2",
   "metadata": {},
   "outputs": [
    {
     "data": {
      "text/html": [
       "<div>\n",
       "<style scoped>\n",
       "    .dataframe tbody tr th:only-of-type {\n",
       "        vertical-align: middle;\n",
       "    }\n",
       "\n",
       "    .dataframe tbody tr th {\n",
       "        vertical-align: top;\n",
       "    }\n",
       "\n",
       "    .dataframe thead th {\n",
       "        text-align: right;\n",
       "    }\n",
       "</style>\n",
       "<table border=\"1\" class=\"dataframe\">\n",
       "  <thead>\n",
       "    <tr style=\"text-align: right;\">\n",
       "      <th></th>\n",
       "      <th>age</th>\n",
       "      <th>hypertension</th>\n",
       "      <th>heart_disease</th>\n",
       "      <th>ever_married</th>\n",
       "      <th>work_type</th>\n",
       "      <th>avg_glucose_level</th>\n",
       "      <th>bmi</th>\n",
       "      <th>smoking_status</th>\n",
       "      <th>stroke</th>\n",
       "    </tr>\n",
       "  </thead>\n",
       "  <tbody>\n",
       "    <tr>\n",
       "      <th>0</th>\n",
       "      <td>67.0</td>\n",
       "      <td>0</td>\n",
       "      <td>1</td>\n",
       "      <td>Yes</td>\n",
       "      <td>Private</td>\n",
       "      <td>228.69</td>\n",
       "      <td>36.6</td>\n",
       "      <td>Private</td>\n",
       "      <td>1</td>\n",
       "    </tr>\n",
       "    <tr>\n",
       "      <th>1</th>\n",
       "      <td>61.0</td>\n",
       "      <td>0</td>\n",
       "      <td>0</td>\n",
       "      <td>Yes</td>\n",
       "      <td>Self-employed</td>\n",
       "      <td>202.21</td>\n",
       "      <td>28.1</td>\n",
       "      <td>Self-employed</td>\n",
       "      <td>1</td>\n",
       "    </tr>\n",
       "    <tr>\n",
       "      <th>2</th>\n",
       "      <td>80.0</td>\n",
       "      <td>0</td>\n",
       "      <td>1</td>\n",
       "      <td>Yes</td>\n",
       "      <td>Private</td>\n",
       "      <td>105.92</td>\n",
       "      <td>32.5</td>\n",
       "      <td>Private</td>\n",
       "      <td>1</td>\n",
       "    </tr>\n",
       "    <tr>\n",
       "      <th>3</th>\n",
       "      <td>49.0</td>\n",
       "      <td>0</td>\n",
       "      <td>0</td>\n",
       "      <td>Yes</td>\n",
       "      <td>Private</td>\n",
       "      <td>171.23</td>\n",
       "      <td>34.4</td>\n",
       "      <td>Private</td>\n",
       "      <td>1</td>\n",
       "    </tr>\n",
       "    <tr>\n",
       "      <th>4</th>\n",
       "      <td>79.0</td>\n",
       "      <td>1</td>\n",
       "      <td>0</td>\n",
       "      <td>Yes</td>\n",
       "      <td>Self-employed</td>\n",
       "      <td>174.12</td>\n",
       "      <td>24.0</td>\n",
       "      <td>Self-employed</td>\n",
       "      <td>1</td>\n",
       "    </tr>\n",
       "  </tbody>\n",
       "</table>\n",
       "</div>"
      ],
      "text/plain": [
       "    age  hypertension  heart_disease ever_married      work_type  \\\n",
       "0  67.0             0              1          Yes        Private   \n",
       "1  61.0             0              0          Yes  Self-employed   \n",
       "2  80.0             0              1          Yes        Private   \n",
       "3  49.0             0              0          Yes        Private   \n",
       "4  79.0             1              0          Yes  Self-employed   \n",
       "\n",
       "   avg_glucose_level   bmi smoking_status  stroke  \n",
       "0             228.69  36.6        Private       1  \n",
       "1             202.21  28.1  Self-employed       1  \n",
       "2             105.92  32.5        Private       1  \n",
       "3             171.23  34.4        Private       1  \n",
       "4             174.12  24.0  Self-employed       1  "
      ]
     },
     "execution_count": 61,
     "metadata": {},
     "output_type": "execute_result"
    }
   ],
   "source": [
    "df.head()"
   ]
  },
  {
   "cell_type": "code",
   "execution_count": 62,
   "id": "00e6960b-1b40-4b9d-abc1-9d9e5384ff96",
   "metadata": {},
   "outputs": [
    {
     "data": {
      "text/plain": [
       "work_type\n",
       "Private          2925\n",
       "Self-employed     819\n",
       "children          687\n",
       "Govt_job          657\n",
       "Never_worked       22\n",
       "Name: count, dtype: int64"
      ]
     },
     "execution_count": 62,
     "metadata": {},
     "output_type": "execute_result"
    }
   ],
   "source": [
    "df[\"work_type\"].value_counts()"
   ]
  },
  {
   "cell_type": "code",
   "execution_count": 63,
   "id": "17722296-0f83-4569-9220-98a3df5c0655",
   "metadata": {},
   "outputs": [],
   "source": [
    "df[\"work_type\"] = df[\"work_type\"].replace({\"Private\":0,\"Self-employed\":1,\"children\":-1,\n",
    "                                            \"Govt_job\":2,\"Never_worked\":-2})"
   ]
  },
  {
   "cell_type": "code",
   "execution_count": 64,
   "id": "51dea693-7376-44ca-94c3-34641bf14c40",
   "metadata": {},
   "outputs": [
    {
     "data": {
      "text/plain": [
       "work_type\n",
       " 0    2925\n",
       " 1     819\n",
       "-1     687\n",
       " 2     657\n",
       "-2      22\n",
       "Name: count, dtype: int64"
      ]
     },
     "execution_count": 64,
     "metadata": {},
     "output_type": "execute_result"
    }
   ],
   "source": [
    "df[\"work_type\"].value_counts()"
   ]
  },
  {
   "cell_type": "code",
   "execution_count": 65,
   "id": "b39d6ce6-bcef-427b-9547-d1779cd6e354",
   "metadata": {},
   "outputs": [
    {
     "data": {
      "text/plain": [
       "ever_married\n",
       "Yes    3353\n",
       "No     1757\n",
       "Name: count, dtype: int64"
      ]
     },
     "execution_count": 65,
     "metadata": {},
     "output_type": "execute_result"
    }
   ],
   "source": [
    "df[\"ever_married\"].value_counts()"
   ]
  },
  {
   "cell_type": "code",
   "execution_count": 66,
   "id": "32b75220-629d-4914-83db-f98827a6c6ed",
   "metadata": {},
   "outputs": [],
   "source": [
    "df[\"ever_married\"] = df[\"ever_married\"].replace({\"No\":0,\"Yes\":1})"
   ]
  },
  {
   "cell_type": "code",
   "execution_count": 67,
   "id": "0f98d02f-5633-48df-abb7-83ec315998c2",
   "metadata": {},
   "outputs": [
    {
     "data": {
      "text/plain": [
       "smoking_status\n",
       "Private          2925\n",
       "Self-employed     819\n",
       "children          687\n",
       "Govt_job          657\n",
       "Never_worked       22\n",
       "Name: count, dtype: int64"
      ]
     },
     "execution_count": 67,
     "metadata": {},
     "output_type": "execute_result"
    }
   ],
   "source": [
    "df[\"smoking_status\"].value_counts()"
   ]
  },
  {
   "cell_type": "code",
   "execution_count": 68,
   "id": "0e2300d3-b13e-4eb7-b74e-dc7adf9f8c0b",
   "metadata": {},
   "outputs": [
    {
     "data": {
      "text/html": [
       "<div>\n",
       "<style scoped>\n",
       "    .dataframe tbody tr th:only-of-type {\n",
       "        vertical-align: middle;\n",
       "    }\n",
       "\n",
       "    .dataframe tbody tr th {\n",
       "        vertical-align: top;\n",
       "    }\n",
       "\n",
       "    .dataframe thead th {\n",
       "        text-align: right;\n",
       "    }\n",
       "</style>\n",
       "<table border=\"1\" class=\"dataframe\">\n",
       "  <thead>\n",
       "    <tr style=\"text-align: right;\">\n",
       "      <th></th>\n",
       "      <th>age</th>\n",
       "      <th>hypertension</th>\n",
       "      <th>heart_disease</th>\n",
       "      <th>ever_married</th>\n",
       "      <th>work_type</th>\n",
       "      <th>avg_glucose_level</th>\n",
       "      <th>bmi</th>\n",
       "      <th>smoking_status</th>\n",
       "      <th>stroke</th>\n",
       "    </tr>\n",
       "  </thead>\n",
       "  <tbody>\n",
       "    <tr>\n",
       "      <th>0</th>\n",
       "      <td>67.0</td>\n",
       "      <td>0</td>\n",
       "      <td>1</td>\n",
       "      <td>1</td>\n",
       "      <td>0</td>\n",
       "      <td>228.69</td>\n",
       "      <td>36.6</td>\n",
       "      <td>0</td>\n",
       "      <td>1</td>\n",
       "    </tr>\n",
       "    <tr>\n",
       "      <th>1</th>\n",
       "      <td>61.0</td>\n",
       "      <td>0</td>\n",
       "      <td>0</td>\n",
       "      <td>1</td>\n",
       "      <td>1</td>\n",
       "      <td>202.21</td>\n",
       "      <td>28.1</td>\n",
       "      <td>1</td>\n",
       "      <td>1</td>\n",
       "    </tr>\n",
       "    <tr>\n",
       "      <th>2</th>\n",
       "      <td>80.0</td>\n",
       "      <td>0</td>\n",
       "      <td>1</td>\n",
       "      <td>1</td>\n",
       "      <td>0</td>\n",
       "      <td>105.92</td>\n",
       "      <td>32.5</td>\n",
       "      <td>0</td>\n",
       "      <td>1</td>\n",
       "    </tr>\n",
       "    <tr>\n",
       "      <th>3</th>\n",
       "      <td>49.0</td>\n",
       "      <td>0</td>\n",
       "      <td>0</td>\n",
       "      <td>1</td>\n",
       "      <td>0</td>\n",
       "      <td>171.23</td>\n",
       "      <td>34.4</td>\n",
       "      <td>0</td>\n",
       "      <td>1</td>\n",
       "    </tr>\n",
       "    <tr>\n",
       "      <th>4</th>\n",
       "      <td>79.0</td>\n",
       "      <td>1</td>\n",
       "      <td>0</td>\n",
       "      <td>1</td>\n",
       "      <td>1</td>\n",
       "      <td>174.12</td>\n",
       "      <td>24.0</td>\n",
       "      <td>1</td>\n",
       "      <td>1</td>\n",
       "    </tr>\n",
       "  </tbody>\n",
       "</table>\n",
       "</div>"
      ],
      "text/plain": [
       "    age  hypertension  heart_disease  ever_married  work_type  \\\n",
       "0  67.0             0              1             1          0   \n",
       "1  61.0             0              0             1          1   \n",
       "2  80.0             0              1             1          0   \n",
       "3  49.0             0              0             1          0   \n",
       "4  79.0             1              0             1          1   \n",
       "\n",
       "   avg_glucose_level   bmi  smoking_status  stroke  \n",
       "0             228.69  36.6               0       1  \n",
       "1             202.21  28.1               1       1  \n",
       "2             105.92  32.5               0       1  \n",
       "3             171.23  34.4               0       1  \n",
       "4             174.12  24.0               1       1  "
      ]
     },
     "execution_count": 68,
     "metadata": {},
     "output_type": "execute_result"
    }
   ],
   "source": [
    "df['smoking_status'] = df[\"work_type\"].replace({\"never smoked\":0,\"Unknown\":1,\"formerly smoked\":2,\"smokes\":-2})\n",
    "df.head()"
   ]
  },
  {
   "cell_type": "code",
   "execution_count": 69,
   "id": "c27a0a78-1b31-46c3-89d1-5ecba6268647",
   "metadata": {},
   "outputs": [
    {
     "data": {
      "text/plain": [
       "<Axes: xlabel='bmi', ylabel='Density'>"
      ]
     },
     "execution_count": 69,
     "metadata": {},
     "output_type": "execute_result"
    },
    {
     "data": {
      "image/png": "[encoded data removed]",
      "text/plain": [
       "<Figure size 640x480 with 1 Axes>"
      ]
     },
     "metadata": {},
     "output_type": "display_data"
    }
   ],
   "source": [
    "sns.distplot(df[\"bmi\"])"
   ]
  },
  {
   "cell_type": "code",
   "execution_count": 70,
   "id": "b0518187-6648-4252-9b28-4910cd4c4163",
   "metadata": {},
   "outputs": [
    {
     "data": {
      "text/plain": [
       "<Axes: xlabel='stroke', ylabel='Density'>"
      ]
     },
     "execution_count": 70,
     "metadata": {},
     "output_type": "execute_result"
    },
    {
     "data": {
      "image/png": "[encoded data removed]",
      "text/plain": [
       "<Figure size 640x480 with 1 Axes>"
      ]
     },
     "metadata": {},
     "output_type": "display_data"
    }
   ],
   "source": [
    "sns.distplot(df[\"stroke\"])"
   ]
  },
  {
   "cell_type": "code",
   "execution_count": 71,
   "id": "33ccec21-3fa5-4f1d-9077-e7dd6dbf0bef",
   "metadata": {},
   "outputs": [],
   "source": [
    "df_num = df.select_dtypes(exclude='object')\n",
    "\n",
    "#df_num=df_num.drop(['smoking_status','ever_married','work_type','stroke','hypertension','heart_disease'],axis=1)"
   ]
  },
  {
   "cell_type": "code",
   "execution_count": 78,
   "id": "10a5506c-fab9-4ec5-9b47-30a481dbfa28",
   "metadata": {},
   "outputs": [
    {
     "data": {
      "text/html": [
       "<div>\n",
       "<style scoped>\n",
       "    .dataframe tbody tr th:only-of-type {\n",
       "        vertical-align: middle;\n",
       "    }\n",
       "\n",
       "    .dataframe tbody tr th {\n",
       "        vertical-align: top;\n",
       "    }\n",
       "\n",
       "    .dataframe thead th {\n",
       "        text-align: right;\n",
       "    }\n",
       "</style>\n",
       "<table border=\"1\" class=\"dataframe\">\n",
       "  <thead>\n",
       "    <tr style=\"text-align: right;\">\n",
       "      <th></th>\n",
       "      <th>hypertension</th>\n",
       "      <th>heart_disease</th>\n",
       "      <th>ever_married</th>\n",
       "      <th>work_type</th>\n",
       "      <th>smoking_status</th>\n",
       "    </tr>\n",
       "  </thead>\n",
       "  <tbody>\n",
       "    <tr>\n",
       "      <th>0</th>\n",
       "      <td>0</td>\n",
       "      <td>1</td>\n",
       "      <td>1</td>\n",
       "      <td>0</td>\n",
       "      <td>0</td>\n",
       "    </tr>\n",
       "    <tr>\n",
       "      <th>1</th>\n",
       "      <td>0</td>\n",
       "      <td>0</td>\n",
       "      <td>1</td>\n",
       "      <td>1</td>\n",
       "      <td>1</td>\n",
       "    </tr>\n",
       "    <tr>\n",
       "      <th>2</th>\n",
       "      <td>0</td>\n",
       "      <td>1</td>\n",
       "      <td>1</td>\n",
       "      <td>0</td>\n",
       "      <td>0</td>\n",
       "    </tr>\n",
       "    <tr>\n",
       "      <th>3</th>\n",
       "      <td>0</td>\n",
       "      <td>0</td>\n",
       "      <td>1</td>\n",
       "      <td>0</td>\n",
       "      <td>0</td>\n",
       "    </tr>\n",
       "    <tr>\n",
       "      <th>4</th>\n",
       "      <td>1</td>\n",
       "      <td>0</td>\n",
       "      <td>1</td>\n",
       "      <td>1</td>\n",
       "      <td>1</td>\n",
       "    </tr>\n",
       "  </tbody>\n",
       "</table>\n",
       "</div>"
      ],
      "text/plain": [
       "   hypertension  heart_disease  ever_married  work_type  smoking_status\n",
       "0             0              1             1          0               0\n",
       "1             0              0             1          1               1\n",
       "2             0              1             1          0               0\n",
       "3             0              0             1          0               0\n",
       "4             1              0             1          1               1"
      ]
     },
     "execution_count": 78,
     "metadata": {},
     "output_type": "execute_result"
    }
   ],
   "source": [
    "df_cat=df[['hypertension','heart_disease','ever_married','work_type','smoking_status']]\n",
    "df_cat.head()"
   ]
  },
  {
   "cell_type": "code",
   "execution_count": 80,
   "id": "25c272a2-6fb0-48bf-ad0c-304044ba9cbb",
   "metadata": {},
   "outputs": [
    {
     "data": {
      "text/html": [
       "<div>\n",
       "<style scoped>\n",
       "    .dataframe tbody tr th:only-of-type {\n",
       "        vertical-align: middle;\n",
       "    }\n",
       "\n",
       "    .dataframe tbody tr th {\n",
       "        vertical-align: top;\n",
       "    }\n",
       "\n",
       "    .dataframe thead th {\n",
       "        text-align: right;\n",
       "    }\n",
       "</style>\n",
       "<table border=\"1\" class=\"dataframe\">\n",
       "  <thead>\n",
       "    <tr style=\"text-align: right;\">\n",
       "      <th></th>\n",
       "      <th>age</th>\n",
       "      <th>hypertension</th>\n",
       "      <th>heart_disease</th>\n",
       "      <th>ever_married</th>\n",
       "      <th>work_type</th>\n",
       "      <th>avg_glucose_level</th>\n",
       "      <th>bmi</th>\n",
       "      <th>smoking_status</th>\n",
       "      <th>stroke</th>\n",
       "    </tr>\n",
       "  </thead>\n",
       "  <tbody>\n",
       "    <tr>\n",
       "      <th>0</th>\n",
       "      <td>67.0</td>\n",
       "      <td>0</td>\n",
       "      <td>1</td>\n",
       "      <td>1</td>\n",
       "      <td>0</td>\n",
       "      <td>228.69</td>\n",
       "      <td>36.6</td>\n",
       "      <td>0</td>\n",
       "      <td>1</td>\n",
       "    </tr>\n",
       "    <tr>\n",
       "      <th>1</th>\n",
       "      <td>61.0</td>\n",
       "      <td>0</td>\n",
       "      <td>0</td>\n",
       "      <td>1</td>\n",
       "      <td>1</td>\n",
       "      <td>202.21</td>\n",
       "      <td>28.1</td>\n",
       "      <td>1</td>\n",
       "      <td>1</td>\n",
       "    </tr>\n",
       "    <tr>\n",
       "      <th>2</th>\n",
       "      <td>80.0</td>\n",
       "      <td>0</td>\n",
       "      <td>1</td>\n",
       "      <td>1</td>\n",
       "      <td>0</td>\n",
       "      <td>105.92</td>\n",
       "      <td>32.5</td>\n",
       "      <td>0</td>\n",
       "      <td>1</td>\n",
       "    </tr>\n",
       "    <tr>\n",
       "      <th>3</th>\n",
       "      <td>49.0</td>\n",
       "      <td>0</td>\n",
       "      <td>0</td>\n",
       "      <td>1</td>\n",
       "      <td>0</td>\n",
       "      <td>171.23</td>\n",
       "      <td>34.4</td>\n",
       "      <td>0</td>\n",
       "      <td>1</td>\n",
       "    </tr>\n",
       "    <tr>\n",
       "      <th>4</th>\n",
       "      <td>79.0</td>\n",
       "      <td>1</td>\n",
       "      <td>0</td>\n",
       "      <td>1</td>\n",
       "      <td>1</td>\n",
       "      <td>174.12</td>\n",
       "      <td>24.0</td>\n",
       "      <td>1</td>\n",
       "      <td>1</td>\n",
       "    </tr>\n",
       "  </tbody>\n",
       "</table>\n",
       "</div>"
      ],
      "text/plain": [
       "    age  hypertension  heart_disease  ever_married  work_type  \\\n",
       "0  67.0             0              1             1          0   \n",
       "1  61.0             0              0             1          1   \n",
       "2  80.0             0              1             1          0   \n",
       "3  49.0             0              0             1          0   \n",
       "4  79.0             1              0             1          1   \n",
       "\n",
       "   avg_glucose_level   bmi  smoking_status  stroke  \n",
       "0             228.69  36.6               0       1  \n",
       "1             202.21  28.1               1       1  \n",
       "2             105.92  32.5               0       1  \n",
       "3             171.23  34.4               0       1  \n",
       "4             174.12  24.0               1       1  "
      ]
     },
     "execution_count": 80,
     "metadata": {},
     "output_type": "execute_result"
    }
   ],
   "source": [
    "df.head()"
   ]
  },
  {
   "cell_type": "code",
   "execution_count": 81,
   "id": "68a5759f-a0ca-4d69-9bd0-e5e57a1fae28",
   "metadata": {},
   "outputs": [],
   "source": [
    "X=df.drop(['stroke'],axis=1)\n",
    "y=df['stroke']"
   ]
  },
  {
   "cell_type": "code",
   "execution_count": 82,
   "id": "06dd7e86-322a-4c62-986f-b71b64570280",
   "metadata": {},
   "outputs": [
    {
     "data": {
      "text/html": [
       "<div>\n",
       "<style scoped>\n",
       "    .dataframe tbody tr th:only-of-type {\n",
       "        vertical-align: middle;\n",
       "    }\n",
       "\n",
       "    .dataframe tbody tr th {\n",
       "        vertical-align: top;\n",
       "    }\n",
       "\n",
       "    .dataframe thead th {\n",
       "        text-align: right;\n",
       "    }\n",
       "</style>\n",
       "<table border=\"1\" class=\"dataframe\">\n",
       "  <thead>\n",
       "    <tr style=\"text-align: right;\">\n",
       "      <th></th>\n",
       "      <th>age</th>\n",
       "      <th>hypertension</th>\n",
       "      <th>heart_disease</th>\n",
       "      <th>ever_married</th>\n",
       "      <th>work_type</th>\n",
       "      <th>avg_glucose_level</th>\n",
       "      <th>bmi</th>\n",
       "      <th>smoking_status</th>\n",
       "    </tr>\n",
       "  </thead>\n",
       "  <tbody>\n",
       "    <tr>\n",
       "      <th>0</th>\n",
       "      <td>67.0</td>\n",
       "      <td>0</td>\n",
       "      <td>1</td>\n",
       "      <td>1</td>\n",
       "      <td>0</td>\n",
       "      <td>228.69</td>\n",
       "      <td>36.6</td>\n",
       "      <td>0</td>\n",
       "    </tr>\n",
       "    <tr>\n",
       "      <th>1</th>\n",
       "      <td>61.0</td>\n",
       "      <td>0</td>\n",
       "      <td>0</td>\n",
       "      <td>1</td>\n",
       "      <td>1</td>\n",
       "      <td>202.21</td>\n",
       "      <td>28.1</td>\n",
       "      <td>1</td>\n",
       "    </tr>\n",
       "    <tr>\n",
       "      <th>2</th>\n",
       "      <td>80.0</td>\n",
       "      <td>0</td>\n",
       "      <td>1</td>\n",
       "      <td>1</td>\n",
       "      <td>0</td>\n",
       "      <td>105.92</td>\n",
       "      <td>32.5</td>\n",
       "      <td>0</td>\n",
       "    </tr>\n",
       "    <tr>\n",
       "      <th>3</th>\n",
       "      <td>49.0</td>\n",
       "      <td>0</td>\n",
       "      <td>0</td>\n",
       "      <td>1</td>\n",
       "      <td>0</td>\n",
       "      <td>171.23</td>\n",
       "      <td>34.4</td>\n",
       "      <td>0</td>\n",
       "    </tr>\n",
       "    <tr>\n",
       "      <th>4</th>\n",
       "      <td>79.0</td>\n",
       "      <td>1</td>\n",
       "      <td>0</td>\n",
       "      <td>1</td>\n",
       "      <td>1</td>\n",
       "      <td>174.12</td>\n",
       "      <td>24.0</td>\n",
       "      <td>1</td>\n",
       "    </tr>\n",
       "  </tbody>\n",
       "</table>\n",
       "</div>"
      ],
      "text/plain": [
       "    age  hypertension  heart_disease  ever_married  work_type  \\\n",
       "0  67.0             0              1             1          0   \n",
       "1  61.0             0              0             1          1   \n",
       "2  80.0             0              1             1          0   \n",
       "3  49.0             0              0             1          0   \n",
       "4  79.0             1              0             1          1   \n",
       "\n",
       "   avg_glucose_level   bmi  smoking_status  \n",
       "0             228.69  36.6               0  \n",
       "1             202.21  28.1               1  \n",
       "2             105.92  32.5               0  \n",
       "3             171.23  34.4               0  \n",
       "4             174.12  24.0               1  "
      ]
     },
     "execution_count": 82,
     "metadata": {},
     "output_type": "execute_result"
    }
   ],
   "source": [
    "X.head()"
   ]
  },
  {
   "cell_type": "code",
   "execution_count": 83,
   "id": "cad238a5-a008-42a5-9c05-a59987747026",
   "metadata": {},
   "outputs": [
    {
     "data": {
      "text/plain": [
       "0    1\n",
       "1    1\n",
       "2    1\n",
       "3    1\n",
       "4    1\n",
       "Name: stroke, dtype: int64"
      ]
     },
     "execution_count": 83,
     "metadata": {},
     "output_type": "execute_result"
    }
   ],
   "source": [
    "y.head()"
   ]
  },
  {
   "cell_type": "code",
   "execution_count": 84,
   "id": "da8b5248-9b1e-4984-a40c-a1a21b5b845f",
   "metadata": {},
   "outputs": [],
   "source": [
    "from sklearn.model_selection import train_test_split"
   ]
  },
  {
   "cell_type": "code",
   "execution_count": 85,
   "id": "4615c32d-85ea-430a-8297-376c7b01ec3e",
   "metadata": {},
   "outputs": [],
   "source": [
    "xtrain,xtest,ytrain,ytest=train_test_split(X,y,test_size=0.3,random_state=10)"
   ]
  },
  {
   "cell_type": "code",
   "execution_count": 86,
   "id": "cd2cc9a1-7bc2-4971-a74d-81d03a925c50",
   "metadata": {},
   "outputs": [
    {
     "data": {
      "text/plain": [
       "(3577, 8)"
      ]
     },
     "execution_count": 86,
     "metadata": {},
     "output_type": "execute_result"
    }
   ],
   "source": [
    "xtrain.shape"
   ]
  },
  {
   "cell_type": "code",
   "execution_count": 87,
   "id": "330b7b8a-c0c0-4565-bdd0-a13ab3adcd36",
   "metadata": {},
   "outputs": [
    {
     "data": {
      "text/plain": [
       "(1533, 8)"
      ]
     },
     "execution_count": 87,
     "metadata": {},
     "output_type": "execute_result"
    }
   ],
   "source": [
    "xtest.shape"
   ]
  },
  {
   "cell_type": "code",
   "execution_count": 88,
   "id": "23b1844e-a262-40c9-8c3d-1cad18cb4425",
   "metadata": {},
   "outputs": [
    {
     "data": {
      "text/plain": [
       "(3577,)"
      ]
     },
     "execution_count": 88,
     "metadata": {},
     "output_type": "execute_result"
    }
   ],
   "source": [
    "ytrain.shape"
   ]
  },
  {
   "cell_type": "code",
   "execution_count": 89,
   "id": "c5edcc39-876a-4a0d-8156-081cec9d6c1f",
   "metadata": {},
   "outputs": [
    {
     "data": {
      "text/plain": [
       "(1533,)"
      ]
     },
     "execution_count": 89,
     "metadata": {},
     "output_type": "execute_result"
    }
   ],
   "source": [
    "ytest.shape"
   ]
  },
  {
   "cell_type": "code",
   "execution_count": 90,
   "id": "37446e33-5053-44cc-b5f4-ca8902ac0cc8",
   "metadata": {},
   "outputs": [
    {
     "data": {
      "text/plain": [
       "stroke\n",
       "0    95.27537\n",
       "1     4.72463\n",
       "Name: count, dtype: float64"
      ]
     },
     "execution_count": 90,
     "metadata": {},
     "output_type": "execute_result"
    }
   ],
   "source": [
    "ytrain.value_counts()/len(ytrain)*100"
   ]
  },
  {
   "cell_type": "code",
   "execution_count": 91,
   "id": "780a4751-a1f5-45e3-a232-924d6b0032ed",
   "metadata": {},
   "outputs": [
    {
     "data": {
      "text/plain": [
       "stroke\n",
       "0    94.781474\n",
       "1     5.218526\n",
       "Name: count, dtype: float64"
      ]
     },
     "execution_count": 91,
     "metadata": {},
     "output_type": "execute_result"
    }
   ],
   "source": [
    "ytest.value_counts()/len(ytest)*100"
   ]
  },
  {
   "cell_type": "code",
   "execution_count": 92,
   "id": "08f989a9-7498-4e7b-a775-771885d011d5",
   "metadata": {},
   "outputs": [],
   "source": [
    "\n",
    "from imblearn.over_sampling import SMOTE"
   ]
  },
  {
   "cell_type": "code",
   "execution_count": 93,
   "id": "d8ed3461-326c-4b24-aef9-045091edc4c2",
   "metadata": {},
   "outputs": [],
   "source": [
    "smote=SMOTE(sampling_strategy=0.3)"
   ]
  },
  {
   "cell_type": "code",
   "execution_count": 94,
   "id": "24494795-8afd-4510-abf0-19712c1c7164",
   "metadata": {},
   "outputs": [],
   "source": [
    "new_xtrain,new_ytrain=smote.fit_resample(xtrain,ytrain)"
   ]
  },
  {
   "cell_type": "code",
   "execution_count": 95,
   "id": "18b9519e-90d9-4514-8fc3-6290fcba4a7b",
   "metadata": {},
   "outputs": [
    {
     "data": {
      "text/plain": [
       "stroke\n",
       "0    76.930023\n",
       "1    23.069977\n",
       "Name: count, dtype: float64"
      ]
     },
     "execution_count": 95,
     "metadata": {},
     "output_type": "execute_result"
    }
   ],
   "source": [
    "new_ytrain.value_counts()/len(new_ytrain)*100"
   ]
  },
  {
   "cell_type": "code",
   "execution_count": 96,
   "id": "f3db7b68-fdde-42ee-b472-8ff1d4abf237",
   "metadata": {},
   "outputs": [
    {
     "name": "stdout",
     "output_type": "stream",
     "text": [
      "0.8465011286681715\n",
      "[[954  69]\n",
      " [135 171]]\n",
      "              precision    recall  f1-score   support\n",
      "\n",
      "           0       0.88      0.93      0.90      1023\n",
      "           1       0.71      0.56      0.63       306\n",
      "\n",
      "    accuracy                           0.85      1329\n",
      "   macro avg       0.79      0.75      0.76      1329\n",
      "weighted avg       0.84      0.85      0.84      1329\n",
      "\n",
      "Model        LogisticRegression\n",
      "Accuracy               0.846501\n",
      "Recall                 0.558824\n",
      "Precision                0.7125\n",
      "F1 Score               0.626374\n",
      "AUC                    0.745687\n",
      "dtype: object\n"
     ]
    }
   ],
   "source": [
    "#Logistic Regression\n",
    "from sklearn.linear_model import LogisticRegression\n",
    "from sklearn.metrics import confusion_matrix,accuracy_score,classification_report,recall_score,roc_auc_score,f1_score,precision_score\n",
    "xtrain,xtest,ytrain,ytest=train_test_split(new_xtrain,new_ytrain,test_size=0.3,random_state=1)\n",
    "logreg=LogisticRegression()\n",
    "logreg_pred=logreg.fit(xtrain,ytrain).predict(xtest)\n",
    "print(accuracy_score(ytest,logreg_pred))\n",
    "print(confusion_matrix(ytest,logreg_pred))\n",
    "print(classification_report(ytest,logreg_pred))\n",
    "\n",
    "accuracy    =accuracy_score(ytest,logreg_pred)\n",
    "f1score    =f1_score(ytest,logreg_pred)\n",
    "recall     =recall_score(ytest,logreg_pred)\n",
    "precision   =precision_score(ytest,logreg_pred)\n",
    "auc         = roc_auc_score(ytest,logreg_pred)\n",
    "\n",
    "cols_per = [\"Model\", \"Accuracy\",\"Recall\",\"Precision\",\"F1 Score\",'AUC']\n",
    "result_per = pd.DataFrame(columns = cols_per)\n",
    "\n",
    "model_per = pd.Series({  \"Model\": \"LogisticRegression\",\n",
    "                        \"Accuracy\":accuracy,\n",
    "                        \"Recall\":recall,\n",
    "                        \"Precision\":precision,\n",
    "                        \"F1 Score\":f1score,\n",
    "                        \"AUC\":auc\n",
    "                        })\n",
    "\n",
    "result_per = pd.Series(model_per)\n",
    "\n",
    "print(result_per)"
   ]
  },
  {
   "cell_type": "code",
   "execution_count": 97,
   "id": "87f3b6ff-4754-467a-9002-c9e567550b7f",
   "metadata": {},
   "outputs": [
    {
     "name": "stdout",
     "output_type": "stream",
     "text": [
      "              precision    recall  f1-score   support\n",
      "\n",
      "           0       0.87      0.93      0.90      2385\n",
      "           1       0.69      0.55      0.61       716\n",
      "\n",
      "    accuracy                           0.84      3101\n",
      "   macro avg       0.78      0.74      0.76      3101\n",
      "weighted avg       0.83      0.84      0.83      3101\n",
      "\n"
     ]
    }
   ],
   "source": [
    "y_pred_train=logreg.predict(xtrain)\n",
    "print(classification_report(ytrain,y_pred_train))"
   ]
  },
  {
   "cell_type": "code",
   "execution_count": 98,
   "id": "0d42b5d2-7957-475d-815d-a1c1a79db677",
   "metadata": {},
   "outputs": [
    {
     "name": "stdout",
     "output_type": "stream",
     "text": [
      "0.8848758465011287\n",
      "[[946  77]\n",
      " [ 76 230]]\n",
      "              precision    recall  f1-score   support\n",
      "\n",
      "           0       0.93      0.92      0.93      1023\n",
      "           1       0.75      0.75      0.75       306\n",
      "\n",
      "    accuracy                           0.88      1329\n",
      "   macro avg       0.84      0.84      0.84      1329\n",
      "weighted avg       0.89      0.88      0.88      1329\n",
      "\n"
     ]
    },
    {
     "data": {
      "text/plain": [
       "Model        DecisionTree\n",
       "Accuracy         0.884876\n",
       "Recall           0.751634\n",
       "Precision        0.749186\n",
       "F1 Score         0.750408\n",
       "AUC              0.838183\n",
       "dtype: object"
      ]
     },
     "execution_count": 98,
     "metadata": {},
     "output_type": "execute_result"
    }
   ],
   "source": [
    "#Decision tree\n",
    "from sklearn.tree import DecisionTreeClassifier\n",
    "from sklearn.metrics import confusion_matrix,accuracy_score,classification_report,recall_score\n",
    "xtrain,xtest,ytrain,ytest=train_test_split(new_xtrain,new_ytrain,test_size=0.3,random_state=1)\n",
    "dt=DecisionTreeClassifier(random_state=7)\n",
    "dt_pred=dt.fit(xtrain,ytrain).predict(xtest)\n",
    "print(accuracy_score(ytest,dt_pred))\n",
    "print(confusion_matrix(ytest,dt_pred))\n",
    "print(classification_report(ytest,dt_pred))\n",
    "\n",
    "accuracy    =accuracy_score(ytest,dt_pred)\n",
    "f1score    =f1_score(ytest,dt_pred)\n",
    "recall     =recall_score(ytest,dt_pred)\n",
    "precision   =precision_score(ytest,dt_pred)\n",
    "auc         = roc_auc_score(ytest,dt_pred)\n",
    "\n",
    "model_per = pd.Series({  \"Model\": \"DecisionTree\",\n",
    "                        \"Accuracy\":accuracy,\n",
    "                        \"Recall\":recall,\n",
    "                        \"Precision\":precision,\n",
    "                        \"F1 Score\":f1score,\n",
    "                        \"AUC\":auc\n",
    "                        })\n",
    "\n",
    "result_per = pd.Series(model_per)\n",
    "result_per"
   ]
  },
  {
   "cell_type": "code",
   "execution_count": 99,
   "id": "453e017a-5493-452d-9bef-1497e4c67480",
   "metadata": {},
   "outputs": [
    {
     "name": "stdout",
     "output_type": "stream",
     "text": [
      "              precision    recall  f1-score   support\n",
      "\n",
      "           0       1.00      1.00      1.00      2385\n",
      "           1       1.00      1.00      1.00       716\n",
      "\n",
      "    accuracy                           1.00      3101\n",
      "   macro avg       1.00      1.00      1.00      3101\n",
      "weighted avg       1.00      1.00      1.00      3101\n",
      "\n"
     ]
    }
   ],
   "source": [
    "y_pred_train=dt.predict(xtrain)\n",
    "print(classification_report(ytrain,y_pred_train))"
   ]
  },
  {
   "cell_type": "code",
   "execution_count": 100,
   "id": "b6e94d2d-2129-408a-b7c4-b9257fdc14d3",
   "metadata": {},
   "outputs": [
    {
     "name": "stdout",
     "output_type": "stream",
     "text": [
      "0.8645598194130926\n",
      "[[971  52]\n",
      " [128 178]]\n",
      "              precision    recall  f1-score   support\n",
      "\n",
      "           0       0.88      0.95      0.92      1023\n",
      "           1       0.77      0.58      0.66       306\n",
      "\n",
      "    accuracy                           0.86      1329\n",
      "   macro avg       0.83      0.77      0.79      1329\n",
      "weighted avg       0.86      0.86      0.86      1329\n",
      "\n"
     ]
    },
    {
     "data": {
      "text/plain": [
       "Model        RandomForest\n",
       "Accuracy          0.86456\n",
       "Recall           0.581699\n",
       "Precision        0.773913\n",
       "AUC              0.765434\n",
       "dtype: object"
      ]
     },
     "execution_count": 100,
     "metadata": {},
     "output_type": "execute_result"
    }
   ],
   "source": [
    "#Random Forest\n",
    "from sklearn.ensemble import RandomForestClassifier\n",
    "rf=RandomForestClassifier(criterion = 'entropy',max_depth =14,\n",
    "                        min_samples_leaf=15,\n",
    "                        min_samples_split=45,     \n",
    "                        random_state = 7)\n",
    "xtrain,xtest,ytrain,ytest=train_test_split(new_xtrain,new_ytrain,test_size=0.3,random_state=1)\n",
    "rf_pred=rf.fit(xtrain,ytrain).predict(xtest)\n",
    "print(accuracy_score(ytest,rf_pred))\n",
    "print(confusion_matrix(ytest,rf_pred))\n",
    "print(classification_report(ytest,rf_pred))\n",
    "\n",
    "\n",
    "accuracy    =accuracy_score(ytest,rf_pred)\n",
    "f1score    =f1_score(ytest,rf_pred)\n",
    "recall     =recall_score(ytest,rf_pred)\n",
    "precision   =precision_score(ytest,rf_pred)\n",
    "auc         = roc_auc_score(ytest,rf_pred)\n",
    "\n",
    "model_per = pd.Series({  \"Model\": \"RandomForest\",\n",
    "                        \"Accuracy\":accuracy,\n",
    "                        \"Recall\":recall,\n",
    "                        \"Precision\":precision,\n",
    "                        \"AUC\":auc\n",
    "                        })\n",
    "\n",
    "result_per = pd.Series(model_per)\n",
    "result_per"
   ]
  },
  {
   "cell_type": "code",
   "execution_count": 101,
   "id": "54e69a17-16a6-4d0a-84fd-279e6e24bca4",
   "metadata": {},
   "outputs": [
    {
     "name": "stdout",
     "output_type": "stream",
     "text": [
      "              precision    recall  f1-score   support\n",
      "\n",
      "           0       0.90      0.96      0.93      2385\n",
      "           1       0.83      0.64      0.72       716\n",
      "\n",
      "    accuracy                           0.89      3101\n",
      "   macro avg       0.86      0.80      0.82      3101\n",
      "weighted avg       0.88      0.89      0.88      3101\n",
      "\n"
     ]
    }
   ],
   "source": [
    "y_pred_train=rf.predict(xtrain)\n",
    "print(classification_report(ytrain,y_pred_train))"
   ]
  },
  {
   "cell_type": "code",
   "execution_count": 102,
   "id": "f7f08175-2acf-4f76-96d8-8a1294e5d60b",
   "metadata": {},
   "outputs": [
    {
     "data": {
      "image/png": "[encoded data removed]",
      "text/plain": [
       "<Figure size 800x600 with 1 Axes>"
      ]
     },
     "metadata": {},
     "output_type": "display_data"
    }
   ],
   "source": [
    "import matplotlib.pyplot as plt\n",
    "import seaborn as sns\n",
    "\n",
    "# Creating a DataFrame with the model names and their accuracies\n",
    "models = ['LogisticRegression', 'DecisionTree', 'RandomForest']\n",
    "accuracies = [accuracy, accuracy, accuracy]\n",
    "df = pd.DataFrame({'Model': models, 'Accuracy': accuracies})\n",
    "\n",
    "# Creating the countplot\n",
    "plt.figure(figsize=(8, 6))\n",
    "sns.barplot(x='Model', y='Accuracy', data=df, palette='viridis')\n",
    "plt.title('Model Accuracy Comparison')\n",
    "plt.ylabel('Accuracy')\n",
    "plt.xlabel('Model')\n",
    "plt.ylim(0, 1)  # Setting the y-axis limit from 0 to 1 for accuracy values\n",
    "plt.show()"
   ]
  },
  {
   "cell_type": "code",
   "execution_count": 103,
   "id": "136880cf-98ae-49b7-b4d2-68324fe3cf4f",
   "metadata": {},
   "outputs": [
    {
     "name": "stdout",
     "output_type": "stream",
     "text": [
      "\n",
      "The model with the highest accuracy is: Model        RandomForest\n",
      "Accuracy          0.86456\n",
      "Recall           0.581699\n",
      "Precision        0.773913\n",
      "AUC              0.765434\n",
      "dtype: object\n"
     ]
    }
   ],
   "source": [
    "\n",
    "highest_accuracy_model = result_per\n",
    "print(\"\\nThe model with the highest accuracy is:\", highest_accuracy_model)"
   ]
  }
 ],
 "metadata": {
  "kernelspec": {
   "display_name": "Python 3 (ipykernel)",
   "language": "python",
   "name": "python3"
  },
  "language_info": {
   "codemirror_mode": {
    "name": "ipython",
    "version": 3
   },
   "file_extension": ".py",
   "mimetype": "text/x-python",
   "name": "python",
   "nbconvert_exporter": "python",
   "pygments_lexer": "ipython3",
   "version": "3.11.5"
  }
 },
 "nbformat": 4,
 "nbformat_minor": 5
}
